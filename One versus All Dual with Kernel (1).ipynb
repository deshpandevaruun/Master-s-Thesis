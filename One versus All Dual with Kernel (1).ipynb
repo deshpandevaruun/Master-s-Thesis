{
 "cells": [
  {
   "cell_type": "code",
   "execution_count": 4,
   "id": "73427105",
   "metadata": {},
   "outputs": [],
   "source": [
    "import gurobipy as gp\n",
    "from gurobipy import GRB\n",
    "import pandas as pd\n",
    "import numpy as np\n",
    "import matplotlib.pyplot as plt\n",
    "import seaborn as sns\n",
    "import csv\n",
    "%matplotlib inline"
   ]
  },
  {
   "cell_type": "code",
   "execution_count": 5,
   "id": "5755ce57",
   "metadata": {},
   "outputs": [],
   "source": [
    "data = pd.read_csv(\"Iris.csv\", index_col = False)"
   ]
  },
  {
   "cell_type": "code",
   "execution_count": 6,
   "id": "b6365f24",
   "metadata": {},
   "outputs": [
    {
     "name": "stdout",
     "output_type": "stream",
     "text": [
      "Enter penalty for misclassification: 10\n"
     ]
    }
   ],
   "source": [
    "c = float(input(\"Enter penalty for misclassification: \"))"
   ]
  },
  {
   "cell_type": "code",
   "execution_count": 22,
   "id": "89d74019",
   "metadata": {},
   "outputs": [
    {
     "data": {
      "text/html": [
       "<div>\n",
       "<style scoped>\n",
       "    .dataframe tbody tr th:only-of-type {\n",
       "        vertical-align: middle;\n",
       "    }\n",
       "\n",
       "    .dataframe tbody tr th {\n",
       "        vertical-align: top;\n",
       "    }\n",
       "\n",
       "    .dataframe thead th {\n",
       "        text-align: right;\n",
       "    }\n",
       "</style>\n",
       "<table border=\"1\" class=\"dataframe\">\n",
       "  <thead>\n",
       "    <tr style=\"text-align: right;\">\n",
       "      <th></th>\n",
       "      <th>A</th>\n",
       "      <th>B</th>\n",
       "      <th>C</th>\n",
       "      <th>D</th>\n",
       "      <th>Label</th>\n",
       "      <th>Label.1</th>\n",
       "    </tr>\n",
       "  </thead>\n",
       "  <tbody>\n",
       "    <tr>\n",
       "      <th>0</th>\n",
       "      <td>5.1</td>\n",
       "      <td>3.5</td>\n",
       "      <td>1.4</td>\n",
       "      <td>0.2</td>\n",
       "      <td>Iris-setosa</td>\n",
       "      <td>1</td>\n",
       "    </tr>\n",
       "    <tr>\n",
       "      <th>1</th>\n",
       "      <td>4.9</td>\n",
       "      <td>3.0</td>\n",
       "      <td>1.4</td>\n",
       "      <td>0.2</td>\n",
       "      <td>Iris-setosa</td>\n",
       "      <td>1</td>\n",
       "    </tr>\n",
       "    <tr>\n",
       "      <th>2</th>\n",
       "      <td>4.7</td>\n",
       "      <td>3.2</td>\n",
       "      <td>1.3</td>\n",
       "      <td>0.2</td>\n",
       "      <td>Iris-setosa</td>\n",
       "      <td>1</td>\n",
       "    </tr>\n",
       "    <tr>\n",
       "      <th>3</th>\n",
       "      <td>4.6</td>\n",
       "      <td>3.1</td>\n",
       "      <td>1.5</td>\n",
       "      <td>0.2</td>\n",
       "      <td>Iris-setosa</td>\n",
       "      <td>1</td>\n",
       "    </tr>\n",
       "    <tr>\n",
       "      <th>4</th>\n",
       "      <td>5.0</td>\n",
       "      <td>3.6</td>\n",
       "      <td>1.4</td>\n",
       "      <td>0.2</td>\n",
       "      <td>Iris-setosa</td>\n",
       "      <td>1</td>\n",
       "    </tr>\n",
       "  </tbody>\n",
       "</table>\n",
       "</div>"
      ],
      "text/plain": [
       "     A    B    C    D        Label  Label.1\n",
       "0  5.1  3.5  1.4  0.2  Iris-setosa        1\n",
       "1  4.9  3.0  1.4  0.2  Iris-setosa        1\n",
       "2  4.7  3.2  1.3  0.2  Iris-setosa        1\n",
       "3  4.6  3.1  1.5  0.2  Iris-setosa        1\n",
       "4  5.0  3.6  1.4  0.2  Iris-setosa        1"
      ]
     },
     "execution_count": 22,
     "metadata": {},
     "output_type": "execute_result"
    }
   ],
   "source": [
    "data.head()"
   ]
  },
  {
   "cell_type": "code",
   "execution_count": 19,
   "id": "a67790a9",
   "metadata": {},
   "outputs": [],
   "source": [
    "v = len(data.columns)-2"
   ]
  },
  {
   "cell_type": "code",
   "execution_count": 41,
   "id": "6434d278",
   "metadata": {},
   "outputs": [],
   "source": [
    "o = 2"
   ]
  },
  {
   "cell_type": "code",
   "execution_count": 20,
   "id": "df0283e7",
   "metadata": {},
   "outputs": [],
   "source": [
    "u = data.columns[-1]\n",
    "classes = np.unique(data[u])"
   ]
  },
  {
   "cell_type": "code",
   "execution_count": 21,
   "id": "6e3924a9",
   "metadata": {},
   "outputs": [],
   "source": [
    "from sklearn.model_selection import train_test_split\n",
    "train, test = train_test_split(data, test_size=0.2)\n",
    "k = len(train) # number of points (also number of constraints)\n",
    "y = np.array(train[u])\n",
    "points = []\n",
    "for i in range(k):\n",
    "    points.append(np.array(train.iloc[i, :v]))  # Set of points"
   ]
  },
  {
   "cell_type": "code",
   "execution_count": 22,
   "id": "7172a6c7",
   "metadata": {},
   "outputs": [
    {
     "data": {
      "text/plain": [
       "array([6.9, 3.1, 5.4, 2.1], dtype=object)"
      ]
     },
     "execution_count": 22,
     "metadata": {},
     "output_type": "execute_result"
    }
   ],
   "source": [
    "points[0]"
   ]
  },
  {
   "cell_type": "code",
   "execution_count": 23,
   "id": "9efd1a93",
   "metadata": {
    "scrolled": true
   },
   "outputs": [
    {
     "name": "stderr",
     "output_type": "stream",
     "text": [
      "<ipython-input-23-be0e2d4d1650>:4: SettingWithCopyWarning: \n",
      "A value is trying to be set on a copy of a slice from a DataFrame.\n",
      "Try using .loc[row_indexer,col_indexer] = value instead\n",
      "\n",
      "See the caveats in the documentation: https://pandas.pydata.org/pandas-docs/stable/user_guide/indexing.html#returning-a-view-versus-a-copy\n",
      "  train[s] = np.where(train[u] == z, 1, -1) # ADD distinction column for each class 1 if x in class else -1.\n",
      "<ipython-input-23-be0e2d4d1650>:4: SettingWithCopyWarning: \n",
      "A value is trying to be set on a copy of a slice from a DataFrame.\n",
      "Try using .loc[row_indexer,col_indexer] = value instead\n",
      "\n",
      "See the caveats in the documentation: https://pandas.pydata.org/pandas-docs/stable/user_guide/indexing.html#returning-a-view-versus-a-copy\n",
      "  train[s] = np.where(train[u] == z, 1, -1) # ADD distinction column for each class 1 if x in class else -1.\n",
      "<ipython-input-23-be0e2d4d1650>:4: SettingWithCopyWarning: \n",
      "A value is trying to be set on a copy of a slice from a DataFrame.\n",
      "Try using .loc[row_indexer,col_indexer] = value instead\n",
      "\n",
      "See the caveats in the documentation: https://pandas.pydata.org/pandas-docs/stable/user_guide/indexing.html#returning-a-view-versus-a-copy\n",
      "  train[s] = np.where(train[u] == z, 1, -1) # ADD distinction column for each class 1 if x in class else -1.\n"
     ]
    }
   ],
   "source": [
    "H = [] # set of hyperplanes\n",
    "for z in classes:\n",
    "    s = 'Label w.r.t to class ' + str(z)\n",
    "    train[s] = np.where(train[u] == z, 1, -1) # ADD distinction column for each class 1 if x in class else -1."
   ]
  },
  {
   "cell_type": "code",
   "execution_count": 24,
   "id": "c995aee3",
   "metadata": {},
   "outputs": [
    {
     "data": {
      "text/html": [
       "<div>\n",
       "<style scoped>\n",
       "    .dataframe tbody tr th:only-of-type {\n",
       "        vertical-align: middle;\n",
       "    }\n",
       "\n",
       "    .dataframe tbody tr th {\n",
       "        vertical-align: top;\n",
       "    }\n",
       "\n",
       "    .dataframe thead th {\n",
       "        text-align: right;\n",
       "    }\n",
       "</style>\n",
       "<table border=\"1\" class=\"dataframe\">\n",
       "  <thead>\n",
       "    <tr style=\"text-align: right;\">\n",
       "      <th></th>\n",
       "      <th>A</th>\n",
       "      <th>B</th>\n",
       "      <th>C</th>\n",
       "      <th>D</th>\n",
       "      <th>Label</th>\n",
       "      <th>Label.1</th>\n",
       "      <th>Label w.r.t to class 1</th>\n",
       "      <th>Label w.r.t to class 2</th>\n",
       "      <th>Label w.r.t to class 3</th>\n",
       "    </tr>\n",
       "  </thead>\n",
       "  <tbody>\n",
       "    <tr>\n",
       "      <th>139</th>\n",
       "      <td>6.9</td>\n",
       "      <td>3.1</td>\n",
       "      <td>5.4</td>\n",
       "      <td>2.1</td>\n",
       "      <td>Iris-virginica</td>\n",
       "      <td>3</td>\n",
       "      <td>-1</td>\n",
       "      <td>-1</td>\n",
       "      <td>1</td>\n",
       "    </tr>\n",
       "    <tr>\n",
       "      <th>64</th>\n",
       "      <td>5.6</td>\n",
       "      <td>2.9</td>\n",
       "      <td>3.6</td>\n",
       "      <td>1.3</td>\n",
       "      <td>Iris-versicolor</td>\n",
       "      <td>2</td>\n",
       "      <td>-1</td>\n",
       "      <td>1</td>\n",
       "      <td>-1</td>\n",
       "    </tr>\n",
       "    <tr>\n",
       "      <th>105</th>\n",
       "      <td>7.6</td>\n",
       "      <td>3.0</td>\n",
       "      <td>6.6</td>\n",
       "      <td>2.1</td>\n",
       "      <td>Iris-virginica</td>\n",
       "      <td>3</td>\n",
       "      <td>-1</td>\n",
       "      <td>-1</td>\n",
       "      <td>1</td>\n",
       "    </tr>\n",
       "    <tr>\n",
       "      <th>77</th>\n",
       "      <td>6.7</td>\n",
       "      <td>3.0</td>\n",
       "      <td>5.0</td>\n",
       "      <td>1.7</td>\n",
       "      <td>Iris-versicolor</td>\n",
       "      <td>2</td>\n",
       "      <td>-1</td>\n",
       "      <td>1</td>\n",
       "      <td>-1</td>\n",
       "    </tr>\n",
       "    <tr>\n",
       "      <th>36</th>\n",
       "      <td>5.5</td>\n",
       "      <td>3.5</td>\n",
       "      <td>1.3</td>\n",
       "      <td>0.2</td>\n",
       "      <td>Iris-setosa</td>\n",
       "      <td>1</td>\n",
       "      <td>1</td>\n",
       "      <td>-1</td>\n",
       "      <td>-1</td>\n",
       "    </tr>\n",
       "  </tbody>\n",
       "</table>\n",
       "</div>"
      ],
      "text/plain": [
       "       A    B    C    D            Label  Label.1  Label w.r.t to class 1  \\\n",
       "139  6.9  3.1  5.4  2.1   Iris-virginica        3                      -1   \n",
       "64   5.6  2.9  3.6  1.3  Iris-versicolor        2                      -1   \n",
       "105  7.6  3.0  6.6  2.1   Iris-virginica        3                      -1   \n",
       "77   6.7  3.0  5.0  1.7  Iris-versicolor        2                      -1   \n",
       "36   5.5  3.5  1.3  0.2      Iris-setosa        1                       1   \n",
       "\n",
       "     Label w.r.t to class 2  Label w.r.t to class 3  \n",
       "139                      -1                       1  \n",
       "64                        1                      -1  \n",
       "105                      -1                       1  \n",
       "77                        1                      -1  \n",
       "36                       -1                      -1  "
      ]
     },
     "execution_count": 24,
     "metadata": {},
     "output_type": "execute_result"
    }
   ],
   "source": [
    "train.head()"
   ]
  },
  {
   "cell_type": "code",
   "execution_count": 25,
   "id": "e1d74f25",
   "metadata": {},
   "outputs": [
    {
     "name": "stdout",
     "output_type": "stream",
     "text": [
      "Gurobi Optimizer version 9.1.2 build v9.1.2rc0 (win64)\n",
      "Thread count: 2 physical cores, 4 logical processors, using up to 4 threads\n",
      "Optimize a model with 1 rows, 120 columns and 120 nonzeros\n",
      "Model fingerprint: 0x2acdc2cc\n",
      "Model has 7260 quadratic objective terms\n",
      "Coefficient statistics:\n",
      "  Matrix range     [1e+00, 1e+00]\n",
      "  Objective range  [1e+00, 1e+00]\n",
      "  QObjective range [3e+01, 2e+02]\n",
      "  Bounds range     [1e+01, 1e+01]\n",
      "  RHS range        [0e+00, 0e+00]\n",
      "Presolve time: 0.03s\n",
      "Presolved: 1 rows, 120 columns, 120 nonzeros\n",
      "Presolved model has 7260 quadratic objective terms\n",
      "Ordering time: 0.00s\n",
      "\n",
      "Barrier statistics:\n",
      " Free vars  : 4\n",
      " AA' NZ     : 1.000e+01\n",
      " Factor NZ  : 1.500e+01\n",
      " Factor Ops : 5.500e+01 (less than 1 second per iteration)\n",
      " Threads    : 1\n",
      "\n",
      "                  Objective                Residual\n",
      "Iter       Primal          Dual         Primal    Dual     Compl     Time\n",
      "   0   4.80051532e+05  3.00600000e+05  3.60e+04 1.41e-07  1.00e+06     0s\n",
      "   1   1.03460896e+03  2.99170743e+05  7.37e+01 2.88e-10  3.29e+03     0s\n",
      "   2  -3.93323835e+03  1.00233447e+05  4.47e+00 1.75e-11  5.18e+02     0s\n",
      "   3  -1.87312772e+03  3.57343331e+03  5.85e-02 6.82e-13  2.31e+01     0s\n",
      "   4  -2.77609167e+02  3.42981383e+02  5.85e-08 3.95e-13  2.59e+00     0s\n",
      "   5  -3.79223623e+01  4.95815135e+01  5.71e-14 1.08e-13  3.65e-01     0s\n",
      "   6  -4.54416695e+00  7.85822169e+00  1.57e-15 4.92e-14  5.17e-02     0s\n",
      "   7  -1.70861899e-01  1.52700999e+00  1.44e-15 2.33e-14  7.07e-03     0s\n",
      "   8   3.60717189e-01  8.80454103e-01  4.89e-16 8.97e-15  2.17e-03     0s\n",
      "   9   5.90915176e-01  8.78192873e-01  1.04e-14 6.22e-15  1.20e-03     0s\n",
      "  10   7.06673837e-01  7.84902158e-01  8.76e-15 4.10e-15  3.26e-04     0s\n",
      "  11   7.46328265e-01  7.49884210e-01  8.52e-16 5.91e-15  1.48e-05     0s\n",
      "  12   7.48052807e-01  7.48059813e-01  5.14e-14 7.21e-15  2.92e-08     0s\n",
      "  13   7.48057914e-01  7.48057928e-01  3.14e-12 7.09e-15  6.03e-11     0s\n",
      "\n",
      "Barrier solved model in 13 iterations and 0.06 seconds\n",
      "Optimal objective 7.48057914e-01\n",
      "\n",
      "Gurobi Optimizer version 9.1.2 build v9.1.2rc0 (win64)\n",
      "Thread count: 2 physical cores, 4 logical processors, using up to 4 threads\n",
      "Optimize a model with 1 rows, 120 columns and 120 nonzeros\n",
      "Model fingerprint: 0x832c9a43\n",
      "Model has 7260 quadratic objective terms\n",
      "Coefficient statistics:\n",
      "  Matrix range     [1e+00, 1e+00]\n",
      "  Objective range  [1e+00, 1e+00]\n",
      "  QObjective range [3e+01, 2e+02]\n",
      "  Bounds range     [1e+01, 1e+01]\n",
      "  RHS range        [0e+00, 0e+00]\n",
      "Presolve time: 0.01s\n",
      "Presolved: 1 rows, 120 columns, 120 nonzeros\n",
      "Presolved model has 7260 quadratic objective terms\n",
      "Ordering time: 0.00s\n",
      "\n",
      "Barrier statistics:\n",
      " Free vars  : 4\n",
      " AA' NZ     : 1.000e+01\n",
      " Factor NZ  : 1.500e+01\n",
      " Factor Ops : 5.500e+01 (less than 1 second per iteration)\n",
      " Threads    : 1\n",
      "\n",
      "                  Objective                Residual\n",
      "Iter       Primal          Dual         Primal    Dual     Compl     Time\n",
      "   0   4.80393010e+05  3.00600000e+05  3.80e+04 2.40e-07  1.00e+06     0s\n",
      "   1   1.28361941e+03  2.99598221e+05  7.04e+01 4.44e-10  3.09e+03     0s\n",
      "   2  -1.21642313e+03  1.03903963e+05  7.04e-05 3.41e-13  4.38e+02     0s\n",
      "   3   6.66705777e+01  5.03286592e+03  2.21e-06 2.56e-13  2.07e+01     0s\n",
      "   4   4.32705690e+02  9.48917623e+02  1.22e-07 8.88e-14  2.15e+00     0s\n",
      "   5   5.09881214e+02  8.07394638e+02  6.80e-08 4.97e-14  1.24e+00     0s\n",
      "   6   5.73104043e+02  7.50852693e+02  3.68e-08 2.66e-14  7.41e-01     0s\n",
      "   7   6.06874708e+02  7.20544262e+02  1.72e-08 1.95e-14  4.74e-01     0s\n",
      "   8   6.51367902e+02  6.81759485e+02  2.36e-09 7.11e-15  1.27e-01     0s\n",
      "   9   6.62337762e+02  6.72592139e+02  6.99e-10 7.91e-15  4.27e-02     0s\n",
      "  10   6.67406896e+02  6.69460879e+02  1.19e-10 7.88e-15  8.56e-03     0s\n",
      "  11   6.68444559e+02  6.68787346e+02  1.72e-11 6.22e-15  1.43e-03     0s\n",
      "  12   6.68628900e+02  6.68651623e+02  9.62e-13 8.88e-15  9.47e-05     0s\n",
      "  13   6.68641835e+02  6.68641859e+02  3.69e-14 7.02e-15  9.92e-08     0s\n",
      "  14   6.68641849e+02  6.68641849e+02  8.04e-15 5.20e-15  9.93e-11     0s\n",
      "\n",
      "Barrier solved model in 14 iterations and 0.06 seconds\n",
      "Optimal objective 6.68641849e+02\n",
      "\n",
      "Gurobi Optimizer version 9.1.2 build v9.1.2rc0 (win64)\n",
      "Thread count: 2 physical cores, 4 logical processors, using up to 4 threads\n",
      "Optimize a model with 1 rows, 120 columns and 120 nonzeros\n",
      "Model fingerprint: 0x9633d956\n",
      "Model has 7260 quadratic objective terms\n",
      "Coefficient statistics:\n",
      "  Matrix range     [1e+00, 1e+00]\n",
      "  Objective range  [1e+00, 1e+00]\n",
      "  QObjective range [3e+01, 2e+02]\n",
      "  Bounds range     [1e+01, 1e+01]\n",
      "  RHS range        [0e+00, 0e+00]\n",
      "Presolve time: 0.01s\n",
      "Presolved: 1 rows, 120 columns, 120 nonzeros\n",
      "Presolved model has 7260 quadratic objective terms\n",
      "Ordering time: 0.00s\n",
      "\n",
      "Barrier statistics:\n",
      " Free vars  : 4\n",
      " AA' NZ     : 1.000e+01\n",
      " Factor NZ  : 1.500e+01\n",
      " Factor Ops : 5.500e+01 (less than 1 second per iteration)\n",
      " Threads    : 1\n",
      "\n",
      "                  Objective                Residual\n",
      "Iter       Primal          Dual         Primal    Dual     Compl     Time\n",
      "   0   4.80200131e+05  3.00600000e+05  4.60e+04 1.82e-07  1.00e+06     0s\n",
      "   1   1.01130112e+03  2.99356853e+05  7.76e+01 3.08e-10  2.93e+03     0s\n",
      "   2  -2.42412019e+03  9.32523278e+04  5.15e+00 2.04e-11  4.62e+02     0s\n",
      "   3  -1.76169021e+03  5.45622018e+03  1.71e-01 6.80e-13  3.09e+01     0s\n",
      "   4  -2.56356100e+02  7.31479480e+02  2.59e-03 4.37e-13  4.12e+00     0s\n",
      "   5  -4.94349675e+01  2.80677034e+02  7.51e-04 2.04e-13  1.38e+00     0s\n",
      "   6   1.43484398e+01  1.79786369e+02  2.90e-04 1.13e-13  6.90e-01     0s\n",
      "   7   4.65902811e+01  1.11184746e+02  2.89e-05 3.53e-14  2.69e-01     0s\n",
      "   8   5.71543036e+01  9.35716568e+01  1.21e-05 5.09e-14  1.52e-01     0s\n",
      "   9   6.54291015e+01  8.28235876e+01  4.20e-06 3.46e-14  7.25e-02     0s\n",
      "  10   7.21631476e+01  7.51379090e+01  4.17e-12 2.57e-14  1.24e-02     0s\n",
      "  11   7.32680097e+01  7.33882356e+01  1.22e-14 3.23e-14  5.01e-04     0s\n",
      "  12   7.33241109e+01  7.33242359e+01  3.98e-14 3.32e-14  5.21e-07     0s\n",
      "  13   7.33241695e+01  7.33241696e+01  5.42e-14 2.22e-14  5.21e-10     0s\n",
      "\n",
      "Barrier solved model in 13 iterations and 0.05 seconds\n",
      "Optimal objective 7.33241695e+01\n",
      "\n"
     ]
    }
   ],
   "source": [
    "H= []\n",
    "for z in classes:\n",
    "    s = 'Label w.r.t to class ' + str(z)\n",
    "    y_i = np.array(train[s]) \n",
    "    # Binary SVM  \n",
    "    #Dual\n",
    "    m = gp.Model()\n",
    "    lambda_i = m.addVars(k, vtype=GRB.CONTINUOUS, name = 'lambda', lb = 0, ub = c)\n",
    "    m.addConstr(gp.quicksum(lambda_i[i]*y_i[i] for i in range(k)) == 0)\n",
    "    objective =  gp.quicksum(lambda_i[i] for i in range(k)) - gp.quicksum(gp.quicksum(lambda_i[i]*lambda_i[j]*y_i[i]*y_i[j]*K_linear(points[i], points[j]) for j in range(k)) for i in range(k))/2 \n",
    "\n",
    "    m.setObjective(objective, GRB.MAXIMIZE)\n",
    "    m.optimize()\n",
    "    lambda_final = []\n",
    "    for i in m.getVars():\n",
    "        lambda_final.append(i.X)\n",
    "    lambda_final = np.array(lambda_final)\n",
    "    a = np.add(y_i[0]*lambda_final[0]*points[0], y_i[1]*lambda_final[1]*points[1])\n",
    "    for i in range(2, k):\n",
    "        a = np.add(a, y_i[i]*lambda_final[i]*points[i])\n",
    "    i = 0\n",
    "    while lambda_final[i] < 0.0001:\n",
    "        i = i + 1\n",
    "    b = y_i[i] - np.sum(points[i]*a)\n",
    "    H.append([a, b])"
   ]
  },
  {
   "cell_type": "code",
   "execution_count": 30,
   "id": "497ea59c",
   "metadata": {},
   "outputs": [
    {
     "data": {
      "text/plain": [
       "[[array([-0.04603498908696231, 0.5217227751029782, -1.003164343663556,\n",
       "         -0.46418022201855336], dtype=object),\n",
       "  1.4505627817410018],\n",
       " [array([-0.04909180148408865, -2.160039273468687, 1.2174766812598463,\n",
       "         -2.7098674520774324], dtype=object),\n",
       "  6.678939616535303],\n",
       " [array([-1.129438716644949, -1.1294387143048916, 3.4295532602511125,\n",
       "         4.352806416170655], dtype=object),\n",
       "  -14.591981664309841]]"
      ]
     },
     "execution_count": 30,
     "metadata": {},
     "output_type": "execute_result"
    }
   ],
   "source": [
    "H"
   ]
  },
  {
   "cell_type": "code",
   "execution_count": 14,
   "id": "10c5306d",
   "metadata": {},
   "outputs": [],
   "source": [
    "def K_linear(x, y):\n",
    "    return np.sum(x*y)"
   ]
  },
  {
   "cell_type": "code",
   "execution_count": 15,
   "id": "7814bef0",
   "metadata": {},
   "outputs": [],
   "source": [
    "def K_polynomial(x, y, constant = 1, power = 1):\n",
    "    return (np.sum(x*y) + constant)**power"
   ]
  },
  {
   "cell_type": "code",
   "execution_count": 16,
   "id": "1129008c",
   "metadata": {},
   "outputs": [],
   "source": [
    "def K_RBF(x, y, parameter = 1, constant = 1, order = 2):\n",
    "    c = np.linalg.norm(x-y, ord = order)\n",
    "    return np.exp(-parameter*c**2 + constant)"
   ]
  },
  {
   "cell_type": "code",
   "execution_count": 42,
   "id": "11ff130a",
   "metadata": {},
   "outputs": [],
   "source": [
    "points_test = []\n",
    "for i in range(len(test)):\n",
    "    points_test.append(np.array(test.iloc[i, :-o]))"
   ]
  },
  {
   "cell_type": "code",
   "execution_count": 50,
   "id": "145ac048",
   "metadata": {},
   "outputs": [],
   "source": [
    "def classifier(H):\n",
    "    y_predicted = []\n",
    "    for i in range(len(test)):\n",
    "        l = []\n",
    "        for j in range(len(H)):\n",
    "            l.append(np.sum(H[j][0]*points_test[i]) + H[j][1])\n",
    "        y_predicted.append(l.index(max(l)) + 1)\n",
    "    y_predicted = pd.Series(y_predicted, name = 'Predicted')\n",
    "    return y_predicted"
   ]
  },
  {
   "cell_type": "code",
   "execution_count": 44,
   "id": "d8c7e4e0",
   "metadata": {},
   "outputs": [],
   "source": [
    "y_actual = pd.Series(test[u], name = 'Actual')"
   ]
  },
  {
   "cell_type": "code",
   "execution_count": 51,
   "id": "1482066c",
   "metadata": {},
   "outputs": [],
   "source": [
    "y_predicted = classifier(H)"
   ]
  },
  {
   "cell_type": "code",
   "execution_count": 53,
   "id": "a499d013",
   "metadata": {},
   "outputs": [],
   "source": [
    "import sklearn\n",
    "cf = sklearn.metrics.confusion_matrix(y_actual, y_predicted)"
   ]
  },
  {
   "cell_type": "code",
   "execution_count": 54,
   "id": "9f22d053",
   "metadata": {},
   "outputs": [
    {
     "data": {
      "text/plain": [
       "array([[6, 2, 0],\n",
       "       [0, 9, 0],\n",
       "       [0, 5, 8]], dtype=int64)"
      ]
     },
     "execution_count": 54,
     "metadata": {},
     "output_type": "execute_result"
    }
   ],
   "source": [
    "cf"
   ]
  },
  {
   "cell_type": "code",
   "execution_count": 67,
   "id": "5f494d42",
   "metadata": {},
   "outputs": [
    {
     "name": "stdout",
     "output_type": "stream",
     "text": [
      "The accuracy is  76.66666666666667 %\n"
     ]
    }
   ],
   "source": [
    "accuracy = 0\n",
    "for i in range(cf.shape[0]):\n",
    "    accuracy += cf[i, i]\n",
    "accuracy = accuracy*100/len(points_test)\n",
    "print(\"The accuracy is \",accuracy,\"%\")"
   ]
  },
  {
   "cell_type": "code",
   "execution_count": 57,
   "id": "d0939baa",
   "metadata": {},
   "outputs": [
    {
     "data": {
      "text/plain": [
       "30"
      ]
     },
     "execution_count": 57,
     "metadata": {},
     "output_type": "execute_result"
    }
   ],
   "source": [
    "len(points_test)"
   ]
  },
  {
   "cell_type": "code",
   "execution_count": 59,
   "id": "4d43bdcc",
   "metadata": {},
   "outputs": [
    {
     "data": {
      "text/plain": [
       "0.7666666666666667"
      ]
     },
     "execution_count": 59,
     "metadata": {},
     "output_type": "execute_result"
    }
   ],
   "source": [
    "(6+9+8)/30"
   ]
  },
  {
   "cell_type": "code",
   "execution_count": null,
   "id": "9e2b52f2",
   "metadata": {},
   "outputs": [],
   "source": []
  }
 ],
 "metadata": {
  "kernelspec": {
   "display_name": "Python 3",
   "language": "python",
   "name": "python3"
  },
  "language_info": {
   "codemirror_mode": {
    "name": "ipython",
    "version": 3
   },
   "file_extension": ".py",
   "mimetype": "text/x-python",
   "name": "python",
   "nbconvert_exporter": "python",
   "pygments_lexer": "ipython3",
   "version": "3.8.8"
  }
 },
 "nbformat": 4,
 "nbformat_minor": 5
}
